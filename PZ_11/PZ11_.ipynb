{
  "nbformat": 4,
  "nbformat_minor": 0,
  "metadata": {
    "colab": {
      "name": "PZ11_.ipynb",
      "provenance": []
    },
    "kernelspec": {
      "name": "python3",
      "display_name": "Python 3"
    },
    "language_info": {
      "name": "python"
    }
  },
  "cells": [
    {
      "cell_type": "markdown",
      "source": [
        "Дано целое положительное число. Проверить истинность высказывания: \"данное число является нечетным трехзначным\""
      ],
      "metadata": {
        "id": "4itcqyPXbP5K"
      }
    },
    {
      "cell_type": "code",
      "execution_count": 2,
      "metadata": {
        "colab": {
          "base_uri": "https://localhost:8080/"
        },
        "id": "nDlwbJiCaZow",
        "outputId": "d3144bd8-5985-4f5b-8472-44070a2ca2e7"
      },
      "outputs": [
        {
          "output_type": "stream",
          "name": "stdout",
          "text": [
            "Введите число123\n",
            "true\n"
          ]
        }
      ],
      "source": [
        "a = input('Введите число')\n",
        "while a != int:  # проверка исключений\n",
        "    try:\n",
        "        a = int(a)\n",
        "        if (a % 2 != 0) and (a > 100) and (a < 1000):\n",
        "            print('true')\n",
        "        else:\n",
        "            print('false')\n",
        "        break\n",
        "    except ValueError:\n",
        "        print('введено не число')"
      ]
    },
    {
      "cell_type": "markdown",
      "source": [
        "Дано вещественное число X и целое число N (> 0). Найти значение выражения 1 + X + X^2 / (2!) + ... + X^N / (N!) (N! = 1*2 ...N). Полученное число является приближенным значением функции exp в точке X."
      ],
      "metadata": {
        "id": "Ig02WfE9bvly"
      }
    },
    {
      "cell_type": "code",
      "source": [
        "x, n = input('введите первое число'), input('введите второе число')\n",
        "\n",
        "while x != float:  # проверка исключений\n",
        "    try:\n",
        "        x = float(x)\n",
        "    except ValueError:\n",
        "        print('введено не число')\n",
        "        x = input('введите первое число')\n",
        "    break\n",
        "\n",
        "while n != int:  # проверка исключений\n",
        "    try:\n",
        "        n = int(n)\n",
        "    except ValueError:\n",
        "        print('введено не число')\n",
        "        n = input('введите второе число')\n",
        "    break\n",
        "\n",
        "fact = 1\n",
        "i = 1\n",
        "summa = 1\n",
        "stepen = 1\n",
        "while n > 0 :\n",
        "    stepen = stepen * x\n",
        "    fact = fact * i\n",
        "    i += 1\n",
        "    summa = summa + stepen/fact\n",
        "    n -= 1\n",
        "print('значение функции exp в точке x = ', summa)"
      ],
      "metadata": {
        "colab": {
          "base_uri": "https://localhost:8080/"
        },
        "id": "Z1oGvkuxbvz6",
        "outputId": "c3939629-07f1-424a-d261-5a71a2f2a69b"
      },
      "execution_count": 3,
      "outputs": [
        {
          "output_type": "stream",
          "name": "stdout",
          "text": [
            "введите первое число23\n",
            "введите второе число56\n",
            "значение функции exp в точке x =  9744803429.379402\n"
          ]
        }
      ]
    },
    {
      "cell_type": "markdown",
      "source": [
        "Составить программу, в которой функция генерирует четырехзначное число и определяет, есть ли в числе одинаковые цифры."
      ],
      "metadata": {
        "id": "RSuLDNG9cCZJ"
      }
    },
    {
      "cell_type": "code",
      "source": [
        "from random import randint\n",
        "\n",
        "\n",
        "def generator(m):\n",
        "    m = randint(1000, 9999)\n",
        "    print(m)\n",
        "    a = (m // 1000) % 10\n",
        "    b = (m // 100) % 10\n",
        "    c = (m // 10) % 10\n",
        "    d = m % 10\n",
        "    return a, b, c, d\n",
        "\n",
        "\n",
        "vxod = 1\n",
        "g_1, g_2, g_3, g_4 = generator(vxod)\n",
        "if (g_1 == g_2) or (g_1 == g_3) or (g_1 == g_4) or (g_2 == g_3) or (g_2 == g_4) or (g_4 == g_3):\n",
        "    print('есть одинаковые')\n",
        "else:\n",
        "    print('нет одинаковых')"
      ],
      "metadata": {
        "colab": {
          "base_uri": "https://localhost:8080/"
        },
        "id": "ZcNkLWkMcCiJ",
        "outputId": "1b4fcec6-7a3a-4eaa-ef62-6b182c823f4d"
      },
      "execution_count": 5,
      "outputs": [
        {
          "output_type": "stream",
          "name": "stdout",
          "text": [
            "2098\n",
            "нет одинаковых\n"
          ]
        }
      ]
    }
  ]
}